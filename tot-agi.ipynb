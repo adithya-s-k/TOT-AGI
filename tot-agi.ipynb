{
 "cells": [
  {
   "cell_type": "code",
   "execution_count": 7,
   "metadata": {},
   "outputs": [
    {
     "name": "stderr",
     "output_type": "stream",
     "text": [
      "\n",
      "[notice] A new release of pip available: 22.3 -> 23.2\n",
      "[notice] To update, run: python.exe -m pip install --upgrade pip\n",
      "\n",
      "[notice] A new release of pip available: 22.3 -> 23.2\n",
      "[notice] To update, run: python.exe -m pip install --upgrade pip\n"
     ]
    }
   ],
   "source": [
    "!pip -q install langchain\n",
    "!pip -q install guardrails-ai"
   ]
  },
  {
   "cell_type": "code",
   "execution_count": 8,
   "metadata": {},
   "outputs": [],
   "source": [
    "from langchain.chat_models import ChatOpenAI\n",
    "from langchain.schema import HumanMessage, SystemMessage\n",
    "import getpass\n",
    "\n",
    "from rich import print\n",
    "\n",
    "from langchain.output_parsers import GuardrailsOutputParser\n",
    "\n",
    "from langchain.prompts import PromptTemplate\n",
    "from langchain.llms import OpenAI\n",
    "\n",
    "OPENAI_API_KEY = getpass.getpass()"
   ]
  },
  {
   "cell_type": "code",
   "execution_count": 9,
   "metadata": {},
   "outputs": [],
   "source": [
    "input_problem = input(\"Enter the problem: \")\n",
    "input_nodes = input(\"Enter the nodes: \")\n",
    "input_iterations = input(\"Enter the iterations: \")"
   ]
  },
  {
   "cell_type": "code",
   "execution_count": 15,
   "metadata": {},
   "outputs": [
    {
     "data": {
      "text/html": [
       "<pre style=\"white-space:pre;overflow-x:auto;line-height:normal;font-family:Menlo,'DejaVu Sans Mono',consolas,'Courier New',monospace\"><span style=\"font-weight: bold\">{</span><span style=\"color: #008000; text-decoration-color: #008000\">'problem'</span>: <span style=\"color: #008000; text-decoration-color: #008000\">'solve world hunger'</span>, <span style=\"color: #008000; text-decoration-color: #008000\">'approach'</span>: <span style=\"font-weight: bold\">[{</span><span style=\"color: #008000; text-decoration-color: #008000\">'score'</span>: <span style=\"color: #008080; text-decoration-color: #008080; font-weight: bold\">8</span>, <span style=\"color: #008000; text-decoration-color: #008000\">'approach'</span>: <span style=\"color: #008000; text-decoration-color: #008000\">'Increase agricultural productivity'</span><span style=\"font-weight: bold\">}</span>, \n",
       "<span style=\"font-weight: bold\">{</span><span style=\"color: #008000; text-decoration-color: #008000\">'score'</span>: <span style=\"color: #008080; text-decoration-color: #008080; font-weight: bold\">7</span>, <span style=\"color: #008000; text-decoration-color: #008000\">'approach'</span>: <span style=\"color: #008000; text-decoration-color: #008000\">'Promote sustainable farming practices'</span><span style=\"font-weight: bold\">}</span>, <span style=\"font-weight: bold\">{</span><span style=\"color: #008000; text-decoration-color: #008000\">'score'</span>: <span style=\"color: #008080; text-decoration-color: #008080; font-weight: bold\">9</span>, <span style=\"color: #008000; text-decoration-color: #008000\">'approach'</span>: <span style=\"color: #008000; text-decoration-color: #008000\">'Improve access to </span>\n",
       "<span style=\"color: #008000; text-decoration-color: #008000\">nutritious food'</span><span style=\"font-weight: bold\">}]}</span>\n",
       "</pre>\n"
      ],
      "text/plain": [
       "\u001b[1m{\u001b[0m\u001b[32m'problem'\u001b[0m: \u001b[32m'solve world hunger'\u001b[0m, \u001b[32m'approach'\u001b[0m: \u001b[1m[\u001b[0m\u001b[1m{\u001b[0m\u001b[32m'score'\u001b[0m: \u001b[1;36m8\u001b[0m, \u001b[32m'approach'\u001b[0m: \u001b[32m'Increase agricultural productivity'\u001b[0m\u001b[1m}\u001b[0m, \n",
       "\u001b[1m{\u001b[0m\u001b[32m'score'\u001b[0m: \u001b[1;36m7\u001b[0m, \u001b[32m'approach'\u001b[0m: \u001b[32m'Promote sustainable farming practices'\u001b[0m\u001b[1m}\u001b[0m, \u001b[1m{\u001b[0m\u001b[32m'score'\u001b[0m: \u001b[1;36m9\u001b[0m, \u001b[32m'approach'\u001b[0m: \u001b[32m'Improve access to \u001b[0m\n",
       "\u001b[32mnutritious food'\u001b[0m\u001b[1m}\u001b[0m\u001b[1m]\u001b[0m\u001b[1m}\u001b[0m\n"
      ]
     },
     "metadata": {},
     "output_type": "display_data"
    }
   ],
   "source": [
    "chat = ChatOpenAI(temperature=0.9 , model=\"gpt-3.5-turbo-16k\", client=any , openai_api_key=OPENAI_API_KEY)\n",
    "\n",
    "formated_problem = {\n",
    "  \"problem\": \"problem\",\n",
    "  \"approach\": [\n",
    "    {\n",
    "      \"approach\",\n",
    "      \"score\"\n",
    "    },\n",
    "    {\n",
    "      \"approach\",\n",
    "      \"score\"\n",
    "    },\n",
    "    {\n",
    "      \"approach\",\n",
    "      \"score\"\n",
    "    }\n",
    "  ]\n",
    "}\n",
    "\n",
    "\n",
    "messages = [\n",
    "    SystemMessage(\n",
    "        content=\"You are an AI who is really good at solving problems. You always think step by step and come up with different approaches to solve a problem\",\n",
    "    ),\n",
    "    HumanMessage(\n",
    "        content=\n",
    "        f\"\"\"\n",
    "        Given this problem: {input_problem}\n",
    "        let solve the problem step by step.\n",
    "        you have {input_iterations} iterations to solve it.\n",
    "        come up with {input_nodes} different approaches to solve it.\n",
    "        \n",
    "        give each approach a score from 0 to 10 based on how good it is.\n",
    "        \n",
    "        give it to me in this format:\n",
    "        {str(formated_problem)}\n",
    "        \"\"\"\n",
    "    ),\n",
    "]\n",
    "step1 = chat(messages).content\n",
    "print(step1)"
   ]
  },
  {
   "cell_type": "code",
   "execution_count": 23,
   "metadata": {},
   "outputs": [],
   "source": [
    "def highest_score(solution_input):\n",
    "  approaches = solution_input['approaches']\n",
    "  highest_score = max(approaches, key=lambda x: x['score'])\n",
    "  return highest_score['approach']"
   ]
  },
  {
   "cell_type": "code",
   "execution_count": 24,
   "metadata": {},
   "outputs": [
    {
     "data": {
      "text/html": [
       "<pre style=\"white-space:pre;overflow-x:auto;line-height:normal;font-family:Menlo,'DejaVu Sans Mono',consolas,'Courier New',monospace\"><span style=\"font-weight: bold\">{</span>\n",
       "    <span style=\"color: #008000; text-decoration-color: #008000\">'problem'</span>: <span style=\"color: #008000; text-decoration-color: #008000\">'solve world hunger'</span>,\n",
       "    <span style=\"color: #008000; text-decoration-color: #008000\">'approaches'</span>: <span style=\"font-weight: bold\">[</span>\n",
       "        <span style=\"font-weight: bold\">{</span><span style=\"color: #008000; text-decoration-color: #008000\">'approach'</span>: <span style=\"color: #008000; text-decoration-color: #008000\">'Increase agricultural productivity'</span>, <span style=\"color: #008000; text-decoration-color: #008000\">'score'</span>: <span style=\"color: #008080; text-decoration-color: #008080; font-weight: bold\">8</span><span style=\"font-weight: bold\">}</span>,\n",
       "        <span style=\"font-weight: bold\">{</span><span style=\"color: #008000; text-decoration-color: #008000\">'approach'</span>: <span style=\"color: #008000; text-decoration-color: #008000\">'Promote sustainable farming practices'</span>, <span style=\"color: #008000; text-decoration-color: #008000\">'score'</span>: <span style=\"color: #008080; text-decoration-color: #008080; font-weight: bold\">7</span><span style=\"font-weight: bold\">}</span>,\n",
       "        <span style=\"font-weight: bold\">{</span><span style=\"color: #008000; text-decoration-color: #008000\">'approach'</span>: <span style=\"color: #008000; text-decoration-color: #008000\">'Improve access to nutritious food'</span>, <span style=\"color: #008000; text-decoration-color: #008000\">'score'</span>: <span style=\"color: #008080; text-decoration-color: #008080; font-weight: bold\">9</span><span style=\"font-weight: bold\">}</span>\n",
       "    <span style=\"font-weight: bold\">]</span>\n",
       "<span style=\"font-weight: bold\">}</span>\n",
       "</pre>\n"
      ],
      "text/plain": [
       "\u001b[1m{\u001b[0m\n",
       "    \u001b[32m'problem'\u001b[0m: \u001b[32m'solve world hunger'\u001b[0m,\n",
       "    \u001b[32m'approaches'\u001b[0m: \u001b[1m[\u001b[0m\n",
       "        \u001b[1m{\u001b[0m\u001b[32m'approach'\u001b[0m: \u001b[32m'Increase agricultural productivity'\u001b[0m, \u001b[32m'score'\u001b[0m: \u001b[1;36m8\u001b[0m\u001b[1m}\u001b[0m,\n",
       "        \u001b[1m{\u001b[0m\u001b[32m'approach'\u001b[0m: \u001b[32m'Promote sustainable farming practices'\u001b[0m, \u001b[32m'score'\u001b[0m: \u001b[1;36m7\u001b[0m\u001b[1m}\u001b[0m,\n",
       "        \u001b[1m{\u001b[0m\u001b[32m'approach'\u001b[0m: \u001b[32m'Improve access to nutritious food'\u001b[0m, \u001b[32m'score'\u001b[0m: \u001b[1;36m9\u001b[0m\u001b[1m}\u001b[0m\n",
       "    \u001b[1m]\u001b[0m\n",
       "\u001b[1m}\u001b[0m\n"
      ]
     },
     "metadata": {},
     "output_type": "display_data"
    },
    {
     "data": {
      "text/html": [
       "<pre style=\"white-space:pre;overflow-x:auto;line-height:normal;font-family:Menlo,'DejaVu Sans Mono',consolas,'Courier New',monospace\">Improve access to nutritious food\n",
       "</pre>\n"
      ],
      "text/plain": [
       "Improve access to nutritious food\n"
      ]
     },
     "metadata": {},
     "output_type": "display_data"
    }
   ],
   "source": [
    "extractor_rail = \"\"\"\n",
    "<rail version=\"0.1\">\n",
    "\n",
    "<output>\n",
    "    <string name=\"problem\" description=\"problem specified\" />\n",
    "    <list name=\"approaches\" description=\"List of different approaches to solve the problem\">\n",
    "        <object>\n",
    "            <string name=\"approach\" description=\"the approach\"/>\n",
    "            <integer name=\"score\" format=\"valid-range: 0 10\" />\n",
    "        </object>\n",
    "    </list>\n",
    "</output>\n",
    "\n",
    "<prompt>\n",
    "\n",
    "given the following problem and steps to solve the problem, please extract the problem and a list of different approaches \n",
    "\n",
    "{{approach}}\n",
    "\n",
    "@complete_json_suffix_v2\n",
    "</prompt>\n",
    "</rail>\n",
    "\"\"\"\n",
    "\n",
    "output_parser = GuardrailsOutputParser.from_rail_string(extractor_rail)\n",
    "\n",
    "prompt = PromptTemplate(\n",
    "    template=output_parser.guard.base_prompt,\n",
    "    input_variables=output_parser.guard.prompt.variable_names,\n",
    ")\n",
    "\n",
    "model = OpenAI(temperature=0 , openai_api_key=OPENAI_API_KEY) # type: ignore\n",
    "solution = model(prompt.format_prompt(approach=step1).to_string())\n",
    "solution = output_parser.parse(solution)\n",
    "print(solution)\n",
    "optimal_solution = highest_score(solution)\n",
    "print(optimal_solution)"
   ]
  },
  {
   "cell_type": "code",
   "execution_count": 26,
   "metadata": {},
   "outputs": [
    {
     "name": "stderr",
     "output_type": "stream",
     "text": [
      "Retrying langchain.chat_models.openai.ChatOpenAI.completion_with_retry.<locals>._completion_with_retry in 1.0 seconds as it raised APIConnectionError: Error communicating with OpenAI: HTTPSConnectionPool(host='api.openai.com', port=443): Max retries exceeded with url: /v1/chat/completions (Caused by NameResolutionError(\"<urllib3.connection.HTTPSConnection object at 0x0000023AEECFDE10>: Failed to resolve 'api.openai.com' ([Errno 11001] getaddrinfo failed)\")).\n"
     ]
    }
   ],
   "source": [
    "\n",
    "for i in  range(int(input_iterations)):\n",
    "    messages = [\n",
    "        SystemMessage(\n",
    "            content=\"You have more iterations to solve the problem. Come up with more approaches\",\n",
    "        ),\n",
    "        HumanMessage(\n",
    "            content=\n",
    "            f\"\"\"\n",
    "            Given this problem: {input_problem}\n",
    "            let solve the problem step by step.\n",
    "            you have {(int(input_iterations)-int(i))} iterations to solve it.\n",
    "            this was your previous approach with the highest score: {optimal_solution} build upon it. and come up with more detailed approaches to solve the problem.\n",
    "            come up with {input_nodes} different approaches to solve which are the next step the above mentioned highest score approach.\n",
    "            \n",
    "            give each approach a score from 0 to 10 based on how good it is.\n",
    "            \n",
    "            give it to me in this format:\n",
    "            {str(formated_problem)}\n",
    "            \"\"\"\n",
    "        ),\n",
    "    ]\n",
    "    step = chat(messages).content\n",
    "    solution = model(prompt.format_prompt(approach=step).to_string())\n",
    "    solution = output_parser.parse(solution)\n",
    "    \n",
    "    print(solution)\n",
    "    \n",
    "    optimal_solution = highest_score(solution)\n",
    "    \n",
    "    print(f\"completed iteration {i+1} out of {input_iterations} and the optimal solution is {optimal_solution}\")"
   ]
  }
 ],
 "metadata": {
  "kernelspec": {
   "display_name": "env",
   "language": "python",
   "name": "python3"
  },
  "language_info": {
   "codemirror_mode": {
    "name": "ipython",
    "version": 3
   },
   "file_extension": ".py",
   "mimetype": "text/x-python",
   "name": "python",
   "nbconvert_exporter": "python",
   "pygments_lexer": "ipython3",
   "version": "3.11.0"
  },
  "orig_nbformat": 4
 },
 "nbformat": 4,
 "nbformat_minor": 2
}
